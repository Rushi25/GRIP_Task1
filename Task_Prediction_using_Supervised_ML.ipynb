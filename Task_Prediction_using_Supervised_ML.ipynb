{
  "nbformat": 4,
  "nbformat_minor": 0,
  "metadata": {
    "colab": {
      "name": "Task_Prediction_using_Supervised_ML.ipynb",
      "provenance": [],
      "collapsed_sections": [],
      "toc_visible": true,
      "authorship_tag": "ABX9TyMnqp9uZMzt6QkMXc+mBvje",
      "include_colab_link": true
    },
    "kernelspec": {
      "name": "python3",
      "display_name": "Python 3"
    },
    "language_info": {
      "name": "python"
    }
  },
  "cells": [
    {
      "cell_type": "markdown",
      "metadata": {
        "id": "view-in-github",
        "colab_type": "text"
      },
      "source": [
        "<a href=\"https://colab.research.google.com/github/Rushi25/GRIP_Task1/blob/main/Task_Prediction_using_Supervised_ML.ipynb\" target=\"_parent\"><img src=\"https://colab.research.google.com/assets/colab-badge.svg\" alt=\"Open In Colab\"/></a>"
      ]
    },
    {
      "cell_type": "markdown",
      "metadata": {
        "id": "fg2cKL387YLe"
      },
      "source": [
        "# **The Sparks Foundation**\n",
        "### **Graduate Rotational Internship Program**\n",
        "\n",
        "---\n",
        "\n"
      ]
    },
    {
      "cell_type": "markdown",
      "metadata": {
        "id": "UpQW3rRkCKVM"
      },
      "source": [
        "### **Author:** *Rushikesh Gunjal*  \n",
        "**GitHub:** https://github.com/Rushi25/GRIP_Task1  \n",
        "**Linkedin:** https://www.linkedin.com/in/rushikesh-gunjal-54781715a/"
      ]
    },
    {
      "cell_type": "markdown",
      "metadata": {
        "id": "QqEb67Ym8WlF"
      },
      "source": [
        "### ***Data Science & Business Analytics Tasks***\n",
        "\n",
        "**Task:** Prediction using Supervised ML\n",
        "\n",
        "**Statement:** Predict the percentage of an student based on the no. of study hours."
      ]
    },
    {
      "cell_type": "markdown",
      "metadata": {
        "id": "jmsCRhPn91TL"
      },
      "source": [
        "### **Importing Required Modules & Libraries**"
      ]
    },
    {
      "cell_type": "code",
      "metadata": {
        "id": "X4ifX0pEvrfB"
      },
      "source": [
        "import pandas as pd\n",
        "import numpy as np  \n",
        "import matplotlib.pyplot as plt\n",
        "import seaborn as sns  \n",
        "%matplotlib inline"
      ],
      "execution_count": 1,
      "outputs": []
    },
    {
      "cell_type": "markdown",
      "metadata": {
        "id": "EZFz_W-4-cY6"
      },
      "source": [
        "### **Reading Data from link(http://bit.ly/w-data)**"
      ]
    },
    {
      "cell_type": "code",
      "metadata": {
        "id": "2KNCBlvRv4bJ"
      },
      "source": [
        "url = \"http://bit.ly/w-data\"\n",
        "s_data = pd.read_csv(url)\n",
        "print(\"Data imported successfully\")\n",
        "\n",
        "s_data.head(10)"
      ],
      "execution_count": null,
      "outputs": []
    },
    {
      "cell_type": "markdown",
      "metadata": {
        "id": "zSj-MeYM_WVF"
      },
      "source": [
        "###**Plotting the distribution of scores** "
      ]
    },
    {
      "cell_type": "code",
      "metadata": {
        "id": "Tbz36CMcwEfa"
      },
      "source": [
        "s_data.plot(x='Hours', y='Scores', style='o')\n",
        "plt.title('Hours vs Percentage')\n",
        "plt.xlabel('Hours Studied')  \n",
        "plt.ylabel('Percentage Score')  \n",
        "plt.show()"
      ],
      "execution_count": null,
      "outputs": []
    },
    {
      "cell_type": "markdown",
      "metadata": {
        "id": "AMW3_5RSABOH"
      },
      "source": [
        "### **Preparing the data**"
      ]
    },
    {
      "cell_type": "code",
      "metadata": {
        "id": "PD6lFFg6wkRv"
      },
      "source": [
        "X = s_data.iloc[:, :-1].values  \n",
        "y = s_data.iloc[:, 1].values  "
      ],
      "execution_count": 4,
      "outputs": []
    },
    {
      "cell_type": "code",
      "metadata": {
        "id": "0m1pefz5ws8x"
      },
      "source": [
        "from sklearn.model_selection import train_test_split  \n",
        "X_train, X_test, y_train, y_test = train_test_split(X, y, \n",
        "test_size=0.25, random_state=0) "
      ],
      "execution_count": 5,
      "outputs": []
    },
    {
      "cell_type": "markdown",
      "metadata": {
        "id": "7BimadbcATPr"
      },
      "source": [
        "### **Training the Algorithm**"
      ]
    },
    {
      "cell_type": "code",
      "metadata": {
        "id": "3g_oVFukwxrR"
      },
      "source": [
        "from sklearn.linear_model import LinearRegression  \n",
        "regressor = LinearRegression()  \n",
        "regressor.fit(X_train, y_train) \n",
        "\n",
        "print(\"Training complete.\")"
      ],
      "execution_count": null,
      "outputs": []
    },
    {
      "cell_type": "markdown",
      "metadata": {
        "id": "Vzeq8FQx_y4-"
      },
      "source": [
        "### **Plotting the regression line**"
      ]
    },
    {
      "cell_type": "code",
      "metadata": {
        "id": "ufrccPhd05Lo"
      },
      "source": [
        "line = regressor.coef_*X+regressor.intercept_\n",
        "\n",
        "# Plotting for the test data\n",
        "plt.scatter(X, y)\n",
        "plt.plot(X, line);\n",
        "plt.title('Hours vs Percentage')  \n",
        "plt.xlabel('Hours Studied')  \n",
        "plt.ylabel('Percentage Score')\n",
        "plt.show()"
      ],
      "execution_count": null,
      "outputs": []
    },
    {
      "cell_type": "markdown",
      "metadata": {
        "id": "zG07-MaBAdmM"
      },
      "source": [
        "### **Making Predictions**"
      ]
    },
    {
      "cell_type": "code",
      "metadata": {
        "id": "6zgAzVqRw8ha"
      },
      "source": [
        "print(X_test) # Testing data - In Hours\n",
        "y_pred = regressor.predict(X_test) # Predicting the scores"
      ],
      "execution_count": null,
      "outputs": []
    },
    {
      "cell_type": "code",
      "metadata": {
        "id": "L79eQO5O3_ch"
      },
      "source": [
        "# Comparing Actual vs Predicted\n",
        "df = pd.DataFrame({'Hours':[i[0] for i in X_test],'Predicted Marks':\n",
        "                   [k for k in y_pred]})  \n",
        "df"
      ],
      "execution_count": null,
      "outputs": []
    },
    {
      "cell_type": "code",
      "metadata": {
        "id": "kiin24A14t4G"
      },
      "source": [
        "df = pd.DataFrame({'Actual': y_test, 'Predicted': y_pred})  \n",
        "df"
      ],
      "execution_count": null,
      "outputs": []
    },
    {
      "cell_type": "code",
      "metadata": {
        "id": "cqBXftqv42IF"
      },
      "source": [
        "plt.scatter(x=X_test,y=y_test,color='red')\n",
        "plt.plot(X_test,y_pred,color='black')\n",
        "plt.title('Actual vs Predicted')  \n",
        "plt.xlabel('Hours Studied')  \n",
        "plt.ylabel('Percentage Score') \n",
        "plt.show()\n",
        "print(s_data.corr())"
      ],
      "execution_count": null,
      "outputs": []
    },
    {
      "cell_type": "markdown",
      "metadata": {
        "id": "dbUih0CWAmB2"
      },
      "source": [
        "### **Evaluating the model**"
      ]
    },
    {
      "cell_type": "code",
      "metadata": {
        "id": "sl42Fcm75cEK"
      },
      "source": [
        "from sklearn import metrics as m\n",
        "print('Mean Absolute Error:', m.mean_absolute_error(y_test, y_pred))"
      ],
      "execution_count": null,
      "outputs": []
    },
    {
      "cell_type": "markdown",
      "metadata": {
        "id": "rW6AedeTArUH"
      },
      "source": [
        "### **You can also test with your own data**"
      ]
    },
    {
      "cell_type": "code",
      "metadata": {
        "id": "lxY7BYR-5hKb"
      },
      "source": [
        "hours = [9.25]\n",
        "own_pred = regressor.predict([hours])\n",
        "print(\"No of Hours = {}\".format(hours))\n",
        "print(\"Predicted Score = {}\".format(round(own_pred[0],3)))"
      ],
      "execution_count": null,
      "outputs": []
    },
    {
      "cell_type": "markdown",
      "metadata": {
        "id": "AnHmg3px8xYs"
      },
      "source": [
        "### **Example 1**  \n",
        "Let no. of hours studied = 6.5"
      ]
    },
    {
      "cell_type": "code",
      "metadata": {
        "id": "d9JrnEq08_Pu"
      },
      "source": [
        "hours = [6.5]\n",
        "own_pred = regressor.predict([hours])\n",
        "print(\"No of Hours = {}\".format(hours))\n",
        "print(\"Predicted Score = {}\".format(round(own_pred[0],3)))"
      ],
      "execution_count": null,
      "outputs": []
    },
    {
      "cell_type": "markdown",
      "metadata": {
        "id": "oejgX_tHEh5l"
      },
      "source": [
        "### **Example 2**  \n",
        "Let no. of hours studied = 7.21"
      ]
    },
    {
      "cell_type": "code",
      "metadata": {
        "id": "x7kda7NSEhkc"
      },
      "source": [
        "hours = [7.21]\n",
        "own_pred = regressor.predict([hours])\n",
        "print(\"No of Hours = {}\".format(hours))\n",
        "print(\"Predicted Score = {}\".format(round(own_pred[0],3)))"
      ],
      "execution_count": null,
      "outputs": []
    },
    {
      "cell_type": "markdown",
      "metadata": {
        "id": "rLUB-1bWA5Kn"
      },
      "source": [
        "## **Thank You!!...**"
      ]
    }
  ]
}